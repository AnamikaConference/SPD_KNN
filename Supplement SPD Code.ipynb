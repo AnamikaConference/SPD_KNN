{
 "cells": [
  {
   "cell_type": "markdown",
   "id": "498c649a",
   "metadata": {},
   "source": [
    "### This Supplementary material gives an implementation of Sequential Pitch Distributions (SPD) which is the core concept of the paper\n",
    "We have used a pitch file which is also added as part of Supplement, This file is of Raga Purya Dhanasri which was requested from CompMusic\n",
    "This file has an mbid: 930ae825-111c-4dd5-b8be-de609fd5202d and tonic frequency of 212.874556 Hz"
   ]
  },
  {
   "cell_type": "code",
   "execution_count": 1,
   "id": "be24240f",
   "metadata": {},
   "outputs": [],
   "source": [
    "import pandas as pd\n",
    "import numpy as np\n",
    "import math\n",
    "import matplotlib.pyplot as plt"
   ]
  },
  {
   "cell_type": "code",
   "execution_count": 2,
   "id": "28a7a5ae",
   "metadata": {},
   "outputs": [],
   "source": [
    "file_name = '930ae825-111c-4dd5-b8be-de609fd5202d.tsv'\n",
    "file_tonic = 212.874556"
   ]
  },
  {
   "cell_type": "markdown",
   "id": "16f789d6",
   "metadata": {},
   "source": [
    "### Function to get pitch data"
   ]
  },
  {
   "cell_type": "code",
   "execution_count": 3,
   "id": "6cb49cdf",
   "metadata": {},
   "outputs": [],
   "source": [
    "def get_pitch_data(pitch_file_path):\n",
    "    data = pd.read_csv(pitch_file_path, sep='\\t')\n",
    "    return data"
   ]
  },
  {
   "cell_type": "markdown",
   "id": "6ff89a20",
   "metadata": {},
   "source": [
    "### Convert pitch frequency to an array of 60 pitch values with gaussian smooth with standard deviation 25"
   ]
  },
  {
   "cell_type": "code",
   "execution_count": 4,
   "id": "36266eae",
   "metadata": {},
   "outputs": [],
   "source": [
    "def freq_to_cents(freq, std=25):\n",
    "    frequency_reference = 10\n",
    "    c_true = 1200 * math.log((freq+1e-6) / frequency_reference, 2)\n",
    "\n",
    "    cents_mapping = np.linspace(0, 7180, 360) + 1997.3794084376191\n",
    "    target = np.exp(-(cents_mapping - c_true) ** 2 / (2 * std ** 2))\n",
    "\n",
    "    return np.sum(target.reshape([6, 60]), 0)\n"
   ]
  },
  {
   "cell_type": "markdown",
   "id": "9071d287",
   "metadata": {},
   "source": [
    "### Function to convert all pitche frequency to pitch value array"
   ]
  },
  {
   "cell_type": "code",
   "execution_count": 5,
   "id": "7c96e71f",
   "metadata": {},
   "outputs": [],
   "source": [
    "def get_pitchvalues(pitches):\n",
    "    pitches_arr = pitches.values[:,0]\n",
    "    pitchvalue_prob = []\n",
    "    for idx, p in enumerate(pitches_arr):\n",
    "        if p==0:\n",
    "            continue\n",
    "        pitchvalue_prob.append(freq_to_cents(p))\n",
    "    return np.array(pitchvalue_prob)"
   ]
  },
  {
   "cell_type": "markdown",
   "id": "fa6582d3",
   "metadata": {},
   "source": [
    "### Function to re-order the pitchvalue porbability array based on tonic"
   ]
  },
  {
   "cell_type": "code",
   "execution_count": 6,
   "id": "4d9a7b45",
   "metadata": {},
   "outputs": [],
   "source": [
    "def reorder_tonic(pitchvalue_prob, tonic_freq):\n",
    "    tonic_pv_arr = freq_to_cents(tonic_freq)\n",
    "    tonic_pv = np.argmax(tonic_pv_arr) \n",
    "    return np.roll(pitchvalue_prob, -tonic_pv, axis=1)"
   ]
  },
  {
   "cell_type": "markdown",
   "id": "036efc4d",
   "metadata": {},
   "source": [
    "### Function to normalize"
   ]
  },
  {
   "cell_type": "code",
   "execution_count": 7,
   "id": "46be55bd",
   "metadata": {},
   "outputs": [],
   "source": [
    "def normalize(z):\n",
    "    z_min = np.min(z)\n",
    "    return (z - z_min)/(np.max(z)-z_min+0.001)"
   ]
  },
  {
   "cell_type": "markdown",
   "id": "cd8e8eb6",
   "metadata": {},
   "source": [
    "### Saw tooth wave with a period of 60\n",
    "    This is defined in Equation 1, Page 3 in the paper"
   ]
  },
  {
   "cell_type": "code",
   "execution_count": 8,
   "id": "b26f0dbe",
   "metadata": {},
   "outputs": [],
   "source": [
    "def modulo(x):\n",
    "    return x%60"
   ]
  },
  {
   "cell_type": "markdown",
   "id": "df05efde",
   "metadata": {},
   "source": [
    "### Modulo Add\n",
    "We define another function n which adds 60 to the modulo function\n",
    "whenever x is greater than y\n",
    "This function is defined in Equation 2; Page 3"
   ]
  },
  {
   "cell_type": "code",
   "execution_count": 9,
   "id": "fae0a5fd",
   "metadata": {},
   "outputs": [],
   "source": [
    "def modulo_add(x,y):\n",
    "    mx = modulo(x)\n",
    "    my = modulo(y)\n",
    "    if mx>my:\n",
    "        return my+60\n",
    "    return my"
   ]
  },
  {
   "cell_type": "markdown",
   "id": "af911ad7",
   "metadata": {},
   "source": [
    "### Relax\n",
    "Function to relax a pitch value by +/- 2 pitch values (+/- 40 cents).\n",
    "\n",
    "This is defined in Equations 3-6; Page 3"
   ]
  },
  {
   "cell_type": "code",
   "execution_count": 10,
   "id": "a0e2172f",
   "metadata": {},
   "outputs": [],
   "source": [
    "def relax_fun(p,add,r=2):\n",
    "    if add:\n",
    "        return modulo(p+2)\n",
    "    return modulo(p-2)"
   ]
  },
  {
   "cell_type": "markdown",
   "id": "c2a0e436",
   "metadata": {},
   "source": [
    "### Compare\n",
    "We define function compare that evaluates to 1 when 'x' is at an equal or\n",
    "higher pitch than 'a' and at an equal or at a lower pitch than\n",
    "'b', else it evaluates to 0\n",
    "\n",
    "\n",
    "This function is defined in Equation 7; Page 4\n",
    "\n",
    "For the descending case refer line 268, 269 in the paper"
   ]
  },
  {
   "cell_type": "code",
   "execution_count": 11,
   "id": "c4d3ca98",
   "metadata": {},
   "outputs": [],
   "source": [
    "def compare(a,b,x,asc):\n",
    "    if not asc:\n",
    "        a, b = b, a\n",
    "    if a <= modulo_add(a,x) <= modulo_add(a,b):\n",
    "        return 1\n",
    "    return 0\n"
   ]
  },
  {
   "cell_type": "markdown",
   "id": "e46023d1",
   "metadata": {},
   "source": [
    "### Get Pitch Distribution\n",
    "This function takes the mean across the time axis and normalizes\n",
    "\n",
    "This is defined in Equation 9; Page 4"
   ]
  },
  {
   "cell_type": "code",
   "execution_count": 12,
   "id": "32b8aeb4",
   "metadata": {},
   "outputs": [],
   "source": [
    "def get_pitch_distribution(pitchvalue_prob):\n",
    "    s_mean = normalize(np.mean(pitchvalue_prob, axis=0))\n",
    "    return s_mean"
   ]
  },
  {
   "cell_type": "markdown",
   "id": "7924a1a0",
   "metadata": {},
   "source": [
    "### Get Mean (Pitch distribution) and Standard Deviation across time axis\n",
    "This is deined in equation 10; Page 4"
   ]
  },
  {
   "cell_type": "code",
   "execution_count": 13,
   "id": "9a11f30b",
   "metadata": {},
   "outputs": [],
   "source": [
    "def get_pitch_histograms(pitchvalue_prob):\n",
    "    s_mean = get_pitch_distribution(pitchvalue_prob)\n",
    "    s_std = normalize(np.std(pitchvalue_prob, axis=0))\n",
    "\n",
    "    s = np.stack([s_mean, s_std], axis=-1)\n",
    "    return s\n"
   ]
  },
  {
   "cell_type": "markdown",
   "id": "427317f5",
   "metadata": {},
   "source": [
    "### Get pitch distribution between start and end pitch values\n",
    "This is defined in Equation 11; Page 4"
   ]
  },
  {
   "cell_type": "code",
   "execution_count": 14,
   "id": "739b2024",
   "metadata": {},
   "outputs": [],
   "source": [
    "def get_pd_between_pspe(pitchvalue_prob, ps, pe, asc, relax=2):\n",
    "    if asc:\n",
    "        relax_sign = relax\n",
    "    else:\n",
    "        relax_sign = -relax\n",
    "    pd = get_pitch_distribution(pitchvalue_prob)\n",
    "    w = np.zeros(60)\n",
    "    for i in range(60):\n",
    "        w[i] = pd[i]*compare(ps-relax_sign,pe+relax_sign,i, asc)\n",
    "    return normalize(w)"
   ]
  },
  {
   "cell_type": "markdown",
   "id": "7a39a016",
   "metadata": {},
   "source": [
    "### Function to compute Sequential Pitch Distributions\n",
    "The below functions compute SPD for a given start pitch value (ps) and end pitch value (pe)"
   ]
  },
  {
   "cell_type": "code",
   "execution_count": 15,
   "id": "73e61b8f",
   "metadata": {},
   "outputs": [],
   "source": [
    "def compute_spd_ps_pe(pitchvalue_prob, ps, pe, asc, relax=2):\n",
    "    default_hist = get_pd_between_pspe(pitchvalue_prob, ps, pe, asc)  # Default values to be filled when SPD is not available; line 254, 255 in the paper\n",
    "    lim = 55\n",
    "    pitches_arg = np.argmax(pitchvalue_prob,1) # pitch value with the highest probability\n",
    "    \n",
    "    if asc:\n",
    "        relax_sign = relax\n",
    "    else:\n",
    "        relax_sign = -relax\n",
    "    prev_dist = np.zeros(60)\n",
    "    cum_pitch_dist = np.zeros(60)\n",
    "    n = len(pitches_arg)\n",
    "    k=0\n",
    "    start = False\n",
    "    end = False\n",
    "    for idx in range(n):\n",
    "        p = pitches_arg[idx]\n",
    "        \n",
    "        \n",
    "        if compare(ps-relax_sign, ps+relax_sign, p, asc):\n",
    "            start = True  # This verifies Equation 12; Page 4\n",
    "        \n",
    "        if start and compare(pe-relax_sign, pe+relax_sign, p, asc):\n",
    "            end = True  # This verifies Equation 14; Page 4\n",
    "            k=1\n",
    "        \n",
    "        if start and (compare(ps-relax_sign, pe+relax_sign, p, asc)): # This verifies Equation 15; Page 4\n",
    "            prev_dist[p] = prev_dist[p] + 1  # Equation 16; Page 4\n",
    "            k=1\n",
    "        \n",
    "        if start and end and not (compare(ps-relax_sign, pe+relax_sign, p, asc)):\n",
    "            # This verfies Equation 13; Page 4\n",
    "            cum_pitch_dist = cum_pitch_dist + prev_dist\n",
    "            prev_dist = np.zeros(60)\n",
    "            start = False\n",
    "            end = False\n",
    "            k=0\n",
    "        if not (compare(ps-relax_sign, pe+relax_sign, p, asc)):\n",
    "            prev_dist = np.zeros(60)\n",
    "            start = False\n",
    "            end = False\n",
    "            k=0\n",
    "    \n",
    "    if k==1:\n",
    "        # This handles an edge case where prev_dist is not empty but not yet been added to cum_pitch_dist\n",
    "        cum_pitch_dist = cum_pitch_dist + prev_dist\n",
    "    \n",
    "    if np.sum(cum_pitch_dist)==0:\n",
    "        return normalize(default_hist)  # Return simple pitch distributin incase SPD is empty lines 254, 255\n",
    "    return normalize(cum_pitch_dist)"
   ]
  },
  {
   "cell_type": "markdown",
   "id": "56a2fa79",
   "metadata": {},
   "source": [
    "### Get pitch data"
   ]
  },
  {
   "cell_type": "code",
   "execution_count": 16,
   "id": "afd5682b",
   "metadata": {},
   "outputs": [
    {
     "name": "stdout",
     "output_type": "stream",
     "text": [
      "(167664, 1)\n"
     ]
    }
   ],
   "source": [
    "pitches = get_pitch_data(file_name)\n",
    "print(pitches.shape)"
   ]
  },
  {
   "cell_type": "markdown",
   "id": "5dd640bd",
   "metadata": {},
   "source": [
    "### Convert to Pitch Values"
   ]
  },
  {
   "cell_type": "code",
   "execution_count": 17,
   "id": "038a6cd0",
   "metadata": {},
   "outputs": [],
   "source": [
    "pitchvalue_prob = get_pitchvalues(pitches)"
   ]
  },
  {
   "cell_type": "markdown",
   "id": "ceca87f4",
   "metadata": {},
   "source": [
    "### Reorder pitch value array for the given tonic"
   ]
  },
  {
   "cell_type": "code",
   "execution_count": 18,
   "id": "d6d40a1c",
   "metadata": {},
   "outputs": [],
   "source": [
    "pitchvalue_prob = reorder_tonic(pitchvalue_prob, file_tonic)"
   ]
  },
  {
   "cell_type": "markdown",
   "id": "99129d4a",
   "metadata": {},
   "source": [
    "### Utils to Gaussian smooth"
   ]
  },
  {
   "cell_type": "code",
   "execution_count": 19,
   "id": "1b9ecb87",
   "metadata": {},
   "outputs": [],
   "source": [
    "def get_all_smooth_pitch_values(std=25):\n",
    "    c_note = freq_to_cents(31.7 * 2, std)\n",
    "    all_notes = np.zeros([60, 60])\n",
    "    for p in range(60):\n",
    "        all_notes[p] = get_smooth_pitch_value(c_note, p)\n",
    "\n",
    "    return all_notes, c_note\n",
    "\n",
    "def get_smooth_pitch_value(c_note, note):\n",
    "    return np.roll(c_note, note, axis=-1)\n",
    "\n",
    "def gauss_smooth(raga_feat):\n",
    "    all_notes, c_note = get_all_smooth_pitch_values(std=25)\n",
    "    smooth = np.zeros([12,12,60,2])\n",
    "    for i in range(12):\n",
    "        for j in range(12):\n",
    "            if i==j:\n",
    "                continue\n",
    "            for k in range(0,2):\n",
    "                smooth[i,j,:,k] = gauss_smooth_util(raga_feat[i,j,:,k], all_notes)\n",
    "    return smooth\n",
    "                \n",
    "def gauss_smooth_util(arr1, all_notes):\n",
    "    smooth = 0\n",
    "    for i in range(60):\n",
    "        smooth = smooth + all_notes[i]*arr1[i]\n",
    "    \n",
    "#     smooth = np.power(normalize(smooth), 0.8)\n",
    "    smooth = normalize(smooth)\n",
    "    return smooth"
   ]
  },
  {
   "cell_type": "markdown",
   "id": "d46690ce",
   "metadata": {},
   "source": [
    "### Generate full SPD (All ps, pe pairs and both ascending and descending)"
   ]
  },
  {
   "cell_type": "code",
   "execution_count": 20,
   "id": "87b29d76",
   "metadata": {},
   "outputs": [],
   "source": [
    "def full_spd(pitchvalue_prob):\n",
    "    lim = 55\n",
    "    spd_array = np.zeros([12,12,60,2])\n",
    "    \n",
    "    for i in range(0, 60, 5):\n",
    "        for j in range(0, lim + 1, 5):\n",
    "            s = i\n",
    "            e = j\n",
    "            if s==e:\n",
    "                continue\n",
    "            spd_asc = compute_spd_ps_pe(pitchvalue_prob, s, e, asc=True)\n",
    "            spd_dsc = compute_spd_ps_pe(pitchvalue_prob, e, s, asc=False)\n",
    "            \n",
    "            spd_array[i//5, j//5, :, 0] = spd_asc\n",
    "            spd_array[i//5, j//5, :, 1] = spd_dsc\n",
    "                    \n",
    "    return spd_array\n",
    "    "
   ]
  },
  {
   "cell_type": "markdown",
   "id": "4cfab2b6",
   "metadata": {},
   "source": [
    "### Generate full SPD and Smooth"
   ]
  },
  {
   "cell_type": "code",
   "execution_count": 21,
   "id": "81fcfe83",
   "metadata": {},
   "outputs": [],
   "source": [
    "spd_array = full_spd(pitchvalue_prob)  # Can take several minutes\n",
    "spd_array = gauss_smooth(spd_array)"
   ]
  },
  {
   "cell_type": "markdown",
   "id": "ad80c6a9",
   "metadata": {},
   "source": [
    "## Examples"
   ]
  },
  {
   "cell_type": "markdown",
   "id": "201b7d79",
   "metadata": {},
   "source": [
    "SPD for a transition of notes from Ma' (30) to Ni (55) in an ascending order; As shown in Figure 1 (Blue) Top left in the paper"
   ]
  },
  {
   "cell_type": "code",
   "execution_count": 22,
   "id": "688edf6f",
   "metadata": {},
   "outputs": [
    {
     "data": {
      "text/plain": [
       "[<matplotlib.lines.Line2D at 0x1743001cc88>]"
      ]
     },
     "execution_count": 22,
     "metadata": {},
     "output_type": "execute_result"
    },
    {
     "data": {
      "image/png": "[encoded data removed]",
      "text/plain": [
       "<Figure size 432x288 with 1 Axes>"
      ]
     },
     "metadata": {
      "needs_background": "light"
     },
     "output_type": "display_data"
    }
   ],
   "source": [
    "plt.plot(spd_array[6,11,:,0])"
   ]
  },
  {
   "cell_type": "markdown",
   "id": "824a7426",
   "metadata": {},
   "source": [
    "SPD for a transition of notes from Ni (55) to Ma' (30) in a descending order; As shown in Figure 1 (Blue) Top Middle in the paper"
   ]
  },
  {
   "cell_type": "code",
   "execution_count": 23,
   "id": "7bcd5380",
   "metadata": {},
   "outputs": [
    {
     "data": {
      "text/plain": [
       "[<matplotlib.lines.Line2D at 0x1743014d438>]"
      ]
     },
     "execution_count": 23,
     "metadata": {},
     "output_type": "execute_result"
    },
    {
     "data": {
      "image/png": "[encoded data removed]",
      "text/plain": [
       "<Figure size 432x288 with 1 Axes>"
      ]
     },
     "metadata": {
      "needs_background": "light"
     },
     "output_type": "display_data"
    }
   ],
   "source": [
    "plt.plot(spd_array[6,11,:,1])"
   ]
  },
  {
   "cell_type": "markdown",
   "id": "07f361e0",
   "metadata": {},
   "source": [
    "SPD for a transition of notes from Komal Dha (40) to Ga (20) in a ascending order"
   ]
  },
  {
   "cell_type": "code",
   "execution_count": 24,
   "id": "5e7aacd9",
   "metadata": {},
   "outputs": [
    {
     "data": {
      "text/plain": [
       "[<matplotlib.lines.Line2D at 0x174301c44a8>]"
      ]
     },
     "execution_count": 24,
     "metadata": {},
     "output_type": "execute_result"
    },
    {
     "data": {
      "image/png": "[encoded data removed]",
      "text/plain": [
       "<Figure size 432x288 with 1 Axes>"
      ]
     },
     "metadata": {
      "needs_background": "light"
     },
     "output_type": "display_data"
    }
   ],
   "source": [
    "plt.plot(spd_array[8,4,:,0])"
   ]
  },
  {
   "cell_type": "markdown",
   "id": "abc56f2d",
   "metadata": {},
   "source": [
    "SPD for a transition of notes from Ga (20) to Komal Dha (40) to in a descending order"
   ]
  },
  {
   "cell_type": "code",
   "execution_count": 25,
   "id": "4df20759",
   "metadata": {},
   "outputs": [
    {
     "data": {
      "text/plain": [
       "[<matplotlib.lines.Line2D at 0x17430227550>]"
      ]
     },
     "execution_count": 25,
     "metadata": {},
     "output_type": "execute_result"
    },
    {
     "data": {
      "image/png": "[encoded data removed]",
      "text/plain": [
       "<Figure size 432x288 with 1 Axes>"
      ]
     },
     "metadata": {
      "needs_background": "light"
     },
     "output_type": "display_data"
    }
   ],
   "source": [
    "plt.plot(spd_array[8,4,:,1])"
   ]
  },
  {
   "cell_type": "markdown",
   "id": "5602dd5a",
   "metadata": {},
   "source": [
    "### Generates features used for KNN model\n",
    "See Equation 18, 19; Page 4\n",
    "\n",
    "Also see lines 270-272, 299-302"
   ]
  },
  {
   "cell_type": "code",
   "execution_count": 26,
   "id": "1a4e46e4",
   "metadata": {},
   "outputs": [],
   "source": [
    "def get_knn_features(pitchvalue_prob, spd_array):\n",
    "    \n",
    "    hist = get_pitch_histograms(pitchvalue_prob)\n",
    "    print(hist.shape)\n",
    "    \n",
    "    v1 = np.zeros([11,12,60,2])\n",
    "    for j in range(5,60,5):\n",
    "        for i in range(0,60,5):\n",
    "            v1[(j//5)-1,i//5,:,:] = spd_array[i//5,modulo(j+i)//5,:,:]  # Equation 18; Page 4\n",
    "    \n",
    "    print(v1.shape)\n",
    "    \n",
    "    v2 = np.zeros([12,11,60,2])\n",
    "    for i in range(0,60,5):\n",
    "        for j in range(5,60,5):\n",
    "            v2[i//5,(j//5)-1,:,:] = spd_array[i//5,modulo(j+i)//5,:,:]  # Equation 19; Page 4\n",
    "    \n",
    "    print(v2.shape)\n",
    "    \n",
    "    return hist, v1, v2\n",
    "            \n",
    "    \n"
   ]
  },
  {
   "cell_type": "code",
   "execution_count": 27,
   "id": "ff26940d",
   "metadata": {},
   "outputs": [
    {
     "name": "stdout",
     "output_type": "stream",
     "text": [
      "(60, 2)\n",
      "(11, 12, 60, 2)\n",
      "(12, 11, 60, 2)\n"
     ]
    }
   ],
   "source": [
    "knn_f = get_knn_features(pitchvalue_prob, spd_array)"
   ]
  }
 ],
 "metadata": {
  "kernelspec": {
   "display_name": "Python 3",
   "language": "python",
   "name": "python3"
  },
  "language_info": {
   "codemirror_mode": {
    "name": "ipython",
    "version": 3
   },
   "file_extension": ".py",
   "mimetype": "text/x-python",
   "name": "python",
   "nbconvert_exporter": "python",
   "pygments_lexer": "ipython3",
   "version": "3.6.9"
  }
 },
 "nbformat": 4,
 "nbformat_minor": 5
}
